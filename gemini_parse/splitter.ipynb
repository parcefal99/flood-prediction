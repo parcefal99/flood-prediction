{
 "cells": [
  {
   "cell_type": "code",
   "execution_count": 7,
   "id": "9f8ded98",
   "metadata": {},
   "outputs": [],
   "source": [
    "import math \n",
    "from pathlib import Path\n",
    "import os  \n",
    "import pandas as pd"
   ]
  },
  {
   "cell_type": "code",
   "execution_count": 16,
   "id": "8e75fc80",
   "metadata": {},
   "outputs": [
    {
     "ename": "FileExistsError",
     "evalue": "[Errno 17] File exists: '../gemini_parse/batch_files'",
     "output_type": "error",
     "traceback": [
      "\u001b[31m---------------------------------------------------------------------------\u001b[39m",
      "\u001b[31mFileExistsError\u001b[39m                           Traceback (most recent call last)",
      "\u001b[36mCell\u001b[39m\u001b[36m \u001b[39m\u001b[32mIn[16]\u001b[39m\u001b[32m, line 3\u001b[39m\n\u001b[32m      1\u001b[39m data_path = Path(\u001b[33m\"\u001b[39m\u001b[33mtables_1_3_2000-2022_top\u001b[39m\u001b[33m\"\u001b[39m)\n\u001b[32m      2\u001b[39m output_path = \u001b[33m\"\u001b[39m\u001b[33m../gemini_parse/batch_files\u001b[39m\u001b[33m\"\u001b[39m\n\u001b[32m----> \u001b[39m\u001b[32m3\u001b[39m os.mkdir(output_path)\n",
      "\u001b[31mFileExistsError\u001b[39m: [Errno 17] File exists: '../gemini_parse/batch_files'"
     ]
    }
   ],
   "source": [
    "data_path = Path(\"tables_1_3_2000-2022_top\")\n",
    "output_path = \"../gemini_parse/batch_files\"\n",
    "os.mkdir(output_path)"
   ]
  },
  {
   "cell_type": "code",
   "execution_count": 5,
   "id": "32710eb4",
   "metadata": {},
   "outputs": [
    {
     "data": {
      "text/plain": [
       "PosixPath('../gemini_parse/tables_1_3_2000-2022_top/ba-2000-100-top.pdf')"
      ]
     },
     "execution_count": 5,
     "metadata": {},
     "output_type": "execute_result"
    }
   ],
   "source": [
    "data_files = sorted(list(data_path.iterdir()))\n",
    "data_files[0]"
   ]
  },
  {
   "cell_type": "code",
   "execution_count": 6,
   "id": "a27d6651",
   "metadata": {},
   "outputs": [],
   "source": [
    "batches = math.ceil(len(data_files) / 500)\n",
    "for i in range(1, batches + 1):\n",
    "    files = data_files[500*(i-1):500*i]\n",
    "    df = pd.DataFrame(data={\"path\": files})\n",
    "    df.to_csv(output_path / f\"{i}.csv\", index=False)"
   ]
  }
 ],
 "metadata": {
  "kernelspec": {
   "display_name": "my_env",
   "language": "python",
   "name": "python3"
  },
  "language_info": {
   "codemirror_mode": {
    "name": "ipython",
    "version": 3
   },
   "file_extension": ".py",
   "mimetype": "text/x-python",
   "name": "python",
   "nbconvert_exporter": "python",
   "pygments_lexer": "ipython3",
   "version": "3.13.4"
  }
 },
 "nbformat": 4,
 "nbformat_minor": 5
}
