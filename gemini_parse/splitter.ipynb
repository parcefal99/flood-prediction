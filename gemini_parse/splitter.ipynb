{
 "cells": [
  {
   "cell_type": "code",
   "execution_count": 1,
   "id": "9f8ded98",
   "metadata": {},
   "outputs": [],
   "source": [
    "import math \n",
    "from pathlib import Path\n",
    "import os  \n",
    "import pandas as pd"
   ]
  },
  {
   "cell_type": "code",
   "execution_count": 3,
   "id": "8e75fc80",
   "metadata": {},
   "outputs": [],
   "source": [
    "data_path = Path(\"../gemini_parse/tables_1_3\")\n",
    "output_path = Path(\"../gemini_parse/batch_files\")\n",
    "output_path.mkdir(exist_ok=True)"
   ]
  },
  {
   "cell_type": "code",
   "execution_count": 4,
   "id": "32710eb4",
   "metadata": {},
   "outputs": [
    {
     "data": {
      "text/plain": [
       "WindowsPath('../gemini_parse/tables_1_3/ba-2022-103.pdf')"
      ]
     },
     "execution_count": 4,
     "metadata": {},
     "output_type": "execute_result"
    }
   ],
   "source": [
    "data_files = sorted(list(data_path.iterdir()))\n",
    "data_files[0]"
   ]
  },
  {
   "cell_type": "code",
   "execution_count": 5,
   "id": "a27d6651",
   "metadata": {},
   "outputs": [],
   "source": [
    "batches = math.ceil(len(data_files) / 50)\n",
    "for i in range(1, batches + 1):\n",
    "    files = data_files[50*(i-1):50*i]\n",
    "    df = pd.DataFrame(data={\"path\": files})\n",
    "    df.to_csv(output_path / f\"{i}.csv\", index=False)"
   ]
  }
 ],
 "metadata": {
  "kernelspec": {
   "display_name": "Python 3",
   "language": "python",
   "name": "python3"
  },
  "language_info": {
   "codemirror_mode": {
    "name": "ipython",
    "version": 3
   },
   "file_extension": ".py",
   "mimetype": "text/x-python",
   "name": "python",
   "nbconvert_exporter": "python",
   "pygments_lexer": "ipython3",
   "version": "3.10.2"
  }
 },
 "nbformat": 4,
 "nbformat_minor": 5
}
